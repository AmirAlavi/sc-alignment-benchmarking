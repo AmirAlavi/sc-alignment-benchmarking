{
 "cells": [
  {
   "cell_type": "markdown",
   "metadata": {},
   "source": [
    "# Imports & constants"
   ]
  },
  {
   "cell_type": "code",
   "execution_count": 21,
   "metadata": {},
   "outputs": [],
   "source": [
    "import matplotlib.pyplot as plt\n",
    "import pandas as pd\n",
    "\n",
    "N_PC = 50\n",
    "FILTER_MIN_GENES = 1.8e3\n",
    "FILTER_MIN_READS = 5"
   ]
  },
  {
   "cell_type": "markdown",
   "metadata": {},
   "source": [
    "# Load data"
   ]
  },
  {
   "cell_type": "markdown",
   "metadata": {},
   "source": [
    "## Cleaning the data (filtering)"
   ]
  },
  {
   "cell_type": "code",
   "execution_count": 46,
   "metadata": {},
   "outputs": [],
   "source": [
    "def filter_cells(df, min_genes=FILTER_MIN_GENES):\n",
    "    print('shape before filtering cells = {}'.format(df.shape))\n",
    "    df = df.loc[:, df.sum(axis=0) > min_genes]\n",
    "    print('shape after filtering cells = {}'.format(df.shape))\n",
    "    return df.loc[:, df.sum(axis=0) > min_genes]\n",
    "\n",
    "def filter_genes(df, min_cells=FILTER_MIN_READS):\n",
    "    print('shape before filtering genes = {}'.format(df.shape))\n",
    "    df = df.loc[df.sum(axis=1) > min_cells, :]\n",
    "    print('shape after filtering genes = {}'.format(df.shape))\n",
    "    return df\n"
   ]
  },
  {
   "cell_type": "markdown",
   "metadata": {},
   "source": [
    "## Cellbench"
   ]
  },
  {
   "cell_type": "code",
   "execution_count": 48,
   "metadata": {},
   "outputs": [
    {
     "name": "stdout",
     "output_type": "stream",
     "text": [
      "shape before filtering cells = (16468, 902)\n",
      "shape after filtering cells = (16468, 902)\n",
      "shape before filtering genes = (16468, 902)\n",
      "shape after filtering genes = (16468, 902)\n",
      "shape before filtering cells = (28204, 274)\n",
      "shape after filtering cells = (28204, 274)\n",
      "shape before filtering genes = (28204, 274)\n",
      "shape after filtering genes = (19429, 274)\n",
      "shape before filtering cells = (15127, 225)\n",
      "shape after filtering cells = (15127, 225)\n",
      "shape before filtering genes = (15127, 225)\n",
      "shape after filtering genes = (14951, 225)\n",
      "Index(['unaligned', 'aligned_unmapped', 'mapped_to_exon', 'mapped_to_intron',\n",
      "       'ambiguous_mapping', 'mapped_to_ERCC', 'mapped_to_MT',\n",
      "       'number_of_genes', 'total_count_per_cell', 'non_mt_percent',\n",
      "       'non_ribo_percent', 'outliers', 'cell_line', 'cell_line_demuxlet',\n",
      "       'demuxlet_cls'],\n",
      "      dtype='object')\n"
     ]
    }
   ],
   "source": [
    "datasets = {\n",
    "    'CellBench':{}\n",
    "}\n",
    "protocols = ['10x', 'CELseq2', 'Dropseq']\n",
    "for protocol in protocols:\n",
    "    data = []\n",
    "    for datatype in ['counts', 'meta']:\n",
    "        df = pd.read_csv('data/CellBench/{}_{}.csv'.format(protocol, datatype), index_col=0)\n",
    "        if datatype == 'counts':\n",
    "            df = filter_cells(df)\n",
    "            df = filter_genes(df)\n",
    "        data.append(df)\n",
    "    datasets['CellBench'][protocol] = data\n",
    "\n",
    "print(datasets['CellBench']['10x'][1].columns)"
   ]
  },
  {
   "cell_type": "code",
   "execution_count": 49,
   "metadata": {},
   "outputs": [
    {
     "name": "stdout",
     "output_type": "stream",
     "text": [
      "Number of genes in common = 14951\n"
     ]
    }
   ],
   "source": [
    "# Get intersection of genes in all batches:\n",
    "geneset = None\n",
    "for protocol in protocols:\n",
    "    genes = set(datasets['CellBench'][protocol][0].index)\n",
    "    if geneset is None:\n",
    "        geneset = genes\n",
    "    else:\n",
    "        geneset = geneset.intersection_update(genes)\n",
    "print('Number of genes in common = {}'.format(len(geneset)))"
   ]
  },
  {
   "cell_type": "markdown",
   "metadata": {},
   "source": [
    "# 1: Iterative Closest Point"
   ]
  },
  {
   "cell_type": "code",
   "execution_count": 4,
   "metadata": {},
   "outputs": [],
   "source": [
    "def ICP(A, B, max_iters=100, tolerance=1e-4):\n",
    "    transform = None\n",
    "    \n",
    "    return transform"
   ]
  },
  {
   "cell_type": "markdown",
   "metadata": {},
   "source": [
    "# 2: Relaxed ICP"
   ]
  },
  {
   "cell_type": "code",
   "execution_count": null,
   "metadata": {},
   "outputs": [],
   "source": []
  }
 ],
 "metadata": {
  "kernelspec": {
   "display_name": "Python 3",
   "language": "python",
   "name": "python3"
  },
  "language_info": {
   "codemirror_mode": {
    "name": "ipython",
    "version": 3
   },
   "file_extension": ".py",
   "mimetype": "text/x-python",
   "name": "python",
   "nbconvert_exporter": "python",
   "pygments_lexer": "ipython3",
   "version": "3.7.3"
  }
 },
 "nbformat": 4,
 "nbformat_minor": 2
}
